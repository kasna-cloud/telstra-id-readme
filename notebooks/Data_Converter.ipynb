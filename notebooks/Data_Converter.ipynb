{
 "cells": [
  {
   "cell_type": "markdown",
   "metadata": {
    "Collapsed": "false"
   },
   "source": [
    "# Data Conversion notebook\n",
    "\n",
    "This simple notebook uses python pandas library to convert the datasynth accounts and customers json to CSV files.\n",
    "\n",
    "First import a few libraries."
   ]
  },
  {
   "cell_type": "code",
   "execution_count": null,
   "metadata": {
    "Collapsed": "false"
   },
   "outputs": [],
   "source": [
    "import pandas, csv"
   ]
  },
  {
   "cell_type": "markdown",
   "metadata": {
    "Collapsed": "false"
   },
   "source": [
    "Read and convert to CSV using pandas."
   ]
  },
  {
   "cell_type": "code",
   "execution_count": null,
   "metadata": {
    "Collapsed": "false"
   },
   "outputs": [],
   "source": [
    "pandas.read_json(\"team-storage/sample/accounts.json\", orient=\"index\").to_csv(\"team-storage/sample/accounts.csv\")"
   ]
  },
  {
   "cell_type": "code",
   "execution_count": null,
   "metadata": {
    "Collapsed": "false"
   },
   "outputs": [],
   "source": [
    "pandas.read_json(\"team-storage/sample/customers.json\", orient=\"index\").to_csv(\"team-storage/sample/customers.csv\")"
   ]
  },
  {
   "cell_type": "markdown",
   "metadata": {
    "Collapsed": "false"
   },
   "source": [
    "CSV files are now located in the team storage directory. Use the python below to load and view."
   ]
  },
  {
   "cell_type": "code",
   "execution_count": null,
   "metadata": {
    "Collapsed": "false"
   },
   "outputs": [],
   "source": [
    "with open('team-storage/sample/accounts.csv', newline='') as csvfile:\n",
    "     spamreader = csv.reader(csvfile, delimiter=',', quotechar='|')\n",
    "     for row in spamreader:\n",
    "         print(', '.join(row))"
   ]
  },
  {
   "cell_type": "code",
   "execution_count": null,
   "metadata": {
    "Collapsed": "false"
   },
   "outputs": [],
   "source": [
    "with open('team-storage/sample/customers.csv', newline='') as csvfile:\n",
    "     spamreader = csv.reader(csvfile, delimiter=',', quotechar='|')\n",
    "     for row in spamreader:\n",
    "         print(', '.join(row))"
   ]
  }
 ],
 "metadata": {
  "kernelspec": {
   "display_name": "Python 3",
   "language": "python",
   "name": "python3"
  },
  "language_info": {
   "codemirror_mode": {
    "name": "ipython",
    "version": 3
   },
   "file_extension": ".py",
   "mimetype": "text/x-python",
   "name": "python",
   "nbconvert_exporter": "python",
   "pygments_lexer": "ipython3",
   "version": "3.7.3"
  }
 },
 "nbformat": 4,
 "nbformat_minor": 4
}
